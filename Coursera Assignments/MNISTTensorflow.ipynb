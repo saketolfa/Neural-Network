{
 "cells": [
  {
   "cell_type": "markdown",
   "id": "22b9ef83",
   "metadata": {},
   "source": [
    "# MNIST digits classification dataset (Coursera lab)\n"
   ]
  },
  {
   "cell_type": "markdown",
   "id": "d21a1095",
   "metadata": {},
   "source": [
    "# 1. import libraries"
   ]
  },
  {
   "cell_type": "code",
   "execution_count": 55,
   "id": "7c2e9146",
   "metadata": {},
   "outputs": [],
   "source": [
    "import numpy as np\n",
    "import  matplotlib.pyplot as plt\n",
    "import tensorflow as tf \n",
    "from tensorflow import keras\n"
   ]
  },
  {
   "cell_type": "markdown",
   "id": "4ab7884d",
   "metadata": {},
   "source": [
    "# 2. Load and inspect the data"
   ]
  },
  {
   "cell_type": "code",
   "execution_count": 75,
   "id": "d7b79a5b",
   "metadata": {},
   "outputs": [
    {
     "name": "stdout",
     "output_type": "stream",
     "text": [
      "Training data\n",
      "(60000, 28, 28)\n",
      "(60000,)  \n",
      "\n",
      "Testing data\n",
      "(10000, 28, 28)\n",
      "(10000,)\n"
     ]
    }
   ],
   "source": [
    "# load the data \n",
    "(x_train , y_train ), (x_test , y_test) = tf.keras.datasets.mnist.load_data(path='mnist.npz')\n",
    "\n",
    "# the shape of data \n",
    "print('Training data')\n",
    "print( x_train.shape)\n",
    "print( y_train.shape,' \\n')\n",
    "print('Testing data')\n",
    "print(x_test.shape)\n",
    "print( y_test.shape)\n"
   ]
  },
  {
   "cell_type": "code",
   "execution_count": 76,
   "id": "422d89e0",
   "metadata": {},
   "outputs": [
    {
     "data": {
      "text/plain": [
       "array([0, 1, 2, 3, 4, 5, 6, 7, 8, 9], dtype=uint8)"
      ]
     },
     "execution_count": 76,
     "metadata": {},
     "output_type": "execute_result"
    }
   ],
   "source": [
    "# labels of y\n",
    "np.unique(y_train) \n"
   ]
  },
  {
   "cell_type": "markdown",
   "id": "a6815aee",
   "metadata": {},
   "source": [
    "# 3. Normalize pixel values"
   ]
  },
  {
   "cell_type": "code",
   "execution_count": 77,
   "id": "6434e536",
   "metadata": {},
   "outputs": [],
   "source": [
    "# Normalize pixel values\n",
    "x_train = x_train / 255.0\n",
    "x_test = x_test / 255.0"
   ]
  },
  {
   "cell_type": "markdown",
   "id": "1d22de11",
   "metadata": {},
   "source": [
    "# 4. Defining your callback"
   ]
  },
  {
   "cell_type": "code",
   "execution_count": 78,
   "id": "7a4323e9",
   "metadata": {},
   "outputs": [],
   "source": [
    "\n",
    "# GRADED CLASS: myCallback\n",
    "### START CODE HERE\n",
    "\n",
    "# Remember to inherit from the correct class\n",
    "class myCallback(tf.keras.callbacks.Callback):\n",
    "        # Define the correct function signature for on_epoch_end\n",
    "        def on_epoch_end(self, epoch, logs={}):\n",
    "            if logs.get('accuracy') is not None and logs.get('accuracy') > 0.99:\n",
    "                print(\"\\nReached 99% accuracy so cancelling training!\") \n",
    "                \n",
    "                # Stop training once the above condition is met\n",
    "                self.model.stop_training = True\n",
    "\n",
    "### END CODE HERE"
   ]
  },
  {
   "cell_type": "markdown",
   "id": "4769df7e",
   "metadata": {},
   "source": [
    "# 5. Create and train your model\n"
   ]
  },
  {
   "cell_type": "code",
   "execution_count": 79,
   "id": "0260e886",
   "metadata": {},
   "outputs": [],
   "source": [
    "# GRADED FUNCTION: train_mnist\n",
    "def train_mnist(x_train, y_train):\n",
    "\n",
    "    ### START CODE HERE\n",
    "    \n",
    "    # Instantiate the callback class\n",
    "    callbacks = myCallback()\n",
    "    \n",
    "    # Define the model\n",
    "    model = tf.keras.models.Sequential([ \n",
    "        tf.keras.layers.Flatten(),\n",
    "        tf.keras.layers.Dense(units=512, activation=tf.nn.relu),\n",
    "        tf.keras.layers.Dense(units=10 ,  activation=tf.nn.softmax)\n",
    "    ]) \n",
    "\n",
    "    # Compile the model\n",
    "    model.compile(optimizer='adam', \n",
    "                  loss='sparse_categorical_crossentropy', \n",
    "                  metrics=['accuracy']) \n",
    "    \n",
    "    # Fit the model for 10 epochs adding the callbacks\n",
    "    # and save the training history\n",
    "    history = model.fit(x_train, y_train, epochs=10, callbacks=[callbacks])\n",
    "\n",
    "    ### END CODE HERE\n",
    "\n",
    "    return history , model"
   ]
  },
  {
   "cell_type": "code",
   "execution_count": 80,
   "id": "a9ff8acd",
   "metadata": {},
   "outputs": [
    {
     "name": "stdout",
     "output_type": "stream",
     "text": [
      "Epoch 1/10\n",
      "1875/1875 [==============================] - 60s 31ms/step - loss: 0.2017 - accuracy: 0.94013s - loss: 0.2079 - ac - ETA: 3s - ETA: 2s - loss: 0.2050 - ac - ETA: 1s - l\n",
      "Epoch 2/10\n",
      "1875/1875 [==============================] - 65s 34ms/step - loss: 0.0817 - accuracy: 0.9748\n",
      "Epoch 3/10\n",
      "1875/1875 [==============================] - 73s 39ms/step - loss: 0.0515 - accuracy: 0.9838\n",
      "Epoch 4/10\n",
      "1875/1875 [==============================] - 65s 35ms/step - loss: 0.0376 - accuracy: 0.98792s - loss: 0.0377 - accura - ETA: 2s - loss: 0.0379  - ETA: 1s - loss: - ETA: 0s - loss:\n",
      "Epoch 5/10\n",
      "1875/1875 [==============================] - ETA: 0s - loss: 0.0284 - accuracy: 0.9904 - ETA: 29s - loss: 0.0279 - accur - ETA: 28s - loss: 0.0278 - accur - ETA: 27s - loss: 0.0278 - accuracy: 0.99 - ETA: 27s - - ETA: 25s - loss: 0.0283 -  - ETA - ETA: 21s - loss: \n",
      "Reached 99% accuracy so cancelling training!\n",
      "1875/1875 [==============================] - 64s 34ms/step - loss: 0.0284 - accuracy: 0.9904\n"
     ]
    }
   ],
   "source": [
    "history , model = train_mnist(x_train , y_train)"
   ]
  },
  {
   "cell_type": "markdown",
   "id": "9fa8dead",
   "metadata": {},
   "source": [
    "# 6. Visualization"
   ]
  },
  {
   "cell_type": "code",
   "execution_count": 81,
   "id": "3fd80942",
   "metadata": {},
   "outputs": [
    {
     "data": {
      "image/png": "[encoded data removed]",
      "text/plain": [
       "<Figure size 1008x432 with 2 Axes>"
      ]
     },
     "metadata": {
      "needs_background": "light"
     },
     "output_type": "display_data"
    }
   ],
   "source": [
    "# Training track\n",
    "plt.figure(figsize=(14,6))\n",
    "plt.subplot(1,2,1)\n",
    "plt.plot(history.history['loss'] ,'r')\n",
    "plt.title('loss curve')\n",
    "plt.xlabel('iteration number')\n",
    "plt.ylabel('score')\n",
    "plt.subplot(1,2,2)\n",
    "plt.plot(history.history['accuracy'])\n",
    "plt.title('Accuracy curve')\n",
    "plt.xlabel('iteration number')\n",
    "plt.ylabel('score')\n",
    "plt.show()"
   ]
  },
  {
   "cell_type": "markdown",
   "id": "5365ef17",
   "metadata": {},
   "source": [
    "# 7. Evaluate the model  on the testset"
   ]
  },
  {
   "cell_type": "code",
   "execution_count": 82,
   "id": "6ff2678c",
   "metadata": {},
   "outputs": [
    {
     "name": "stdout",
     "output_type": "stream",
     "text": [
      "313/313 [==============================] - 9s 24ms/step - loss: 0.0669 - accuracy: 0.9826 2s - loss: 0.0766 - accuracy:  - ETA: 0s - loss: 0.0664 - accuracy - ETA: 0s - loss: 0.0670 - accuracy\n"
     ]
    },
    {
     "data": {
      "text/plain": [
       "[0.06688152998685837, 0.9825999736785889]"
      ]
     },
     "execution_count": 82,
     "metadata": {},
     "output_type": "execute_result"
    }
   ],
   "source": [
    "# Evaluate model\n",
    "model.evaluate(x_test , y_test)"
   ]
  },
  {
   "cell_type": "code",
   "execution_count": 92,
   "id": "70662944",
   "metadata": {},
   "outputs": [
    {
     "data": {
      "text/plain": [
       "array([9.2851343e-12, 8.4843943e-10, 4.1353268e-10, 9.4415645e-07,\n",
       "       7.7183598e-05, 1.7936270e-07, 9.4392300e-13, 4.6350938e-06,\n",
       "       4.6893524e-07, 9.9991655e-01], dtype=float32)"
      ]
     },
     "execution_count": 92,
     "metadata": {},
     "output_type": "execute_result"
    }
   ],
   "source": [
    "# Test prediction\n",
    "y_pred = model.predict(x_test)\n",
    "y_pred[12]"
   ]
  },
  {
   "cell_type": "code",
   "execution_count": 94,
   "id": "b010b2b4",
   "metadata": {},
   "outputs": [
    {
     "data": {
      "text/plain": [
       "Text(0.5, 1.0, '9')"
      ]
     },
     "execution_count": 94,
     "metadata": {},
     "output_type": "execute_result"
    },
    {
     "data": {
      "image/png": "[encoded data removed]",
      "text/plain": [
       "<Figure size 432x288 with 1 Axes>"
      ]
     },
     "metadata": {
      "needs_background": "light"
     },
     "output_type": "display_data"
    }
   ],
   "source": [
    "plt.imshow(x_test[12] , cmap='Greys')\n",
    "plt.title(y_test[12])"
   ]
  },
  {
   "cell_type": "markdown",
   "id": "6a73bd55",
   "metadata": {},
   "source": [
    "                                                       THE END "
   ]
  },
  {
   "cell_type": "code",
   "execution_count": null,
   "id": "4fc6a90b",
   "metadata": {},
   "outputs": [],
   "source": []
  }
 ],
 "metadata": {
  "kernelspec": {
   "display_name": "Python 3 (ipykernel)",
   "language": "python",
   "name": "python3"
  },
  "language_info": {
   "codemirror_mode": {
    "name": "ipython",
    "version": 3
   },
   "file_extension": ".py",
   "mimetype": "text/x-python",
   "name": "python",
   "nbconvert_exporter": "python",
   "pygments_lexer": "ipython3",
   "version": "3.8.12"
  }
 },
 "nbformat": 4,
 "nbformat_minor": 5
}
