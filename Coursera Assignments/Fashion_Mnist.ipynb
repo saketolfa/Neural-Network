{
 "cells": [
  {
   "cell_type": "markdown",
   "id": "1ef1aaf3",
   "metadata": {},
   "source": [
    "# Fashion_Mnist dataset using Tensorflow (Coursera lab)"
   ]
  },
  {
   "cell_type": "code",
   "execution_count": 1,
   "id": "64e22a4d",
   "metadata": {},
   "outputs": [],
   "source": [
    "# import labraries \n",
    "import tensorflow as tf\n",
    "from tensorflow import keras \n",
    "import numpy as np\n",
    "import matplotlib.pyplot as plt\n"
   ]
  },
  {
   "cell_type": "code",
   "execution_count": 2,
   "id": "8281e207",
   "metadata": {},
   "outputs": [
    {
     "name": "stdout",
     "output_type": "stream",
     "text": [
      "Train shape (60000, 28, 28)\n",
      "Test shape (10000, 28, 28)\n"
     ]
    }
   ],
   "source": [
    "# load fashion MNIST dataset using keras\n",
    "fashion_mnist = tf.keras.datasets.fashion_mnist\n",
    "(x_train , y_train) , (x_test , y_test) = fashion_mnist.load_data()\n",
    "\n",
    "print('Train shape',x_train.shape) # 60k images\n",
    "print('Test shape',x_test.shape) #10k images\n",
    "\n"
   ]
  },
  {
   "cell_type": "code",
   "execution_count": 3,
   "id": "1dfaea89",
   "metadata": {},
   "outputs": [
    {
     "data": {
      "text/plain": [
       "array([0, 1, 2, 3, 4, 5, 6, 7, 8, 9], dtype=uint8)"
      ]
     },
     "execution_count": 3,
     "metadata": {},
     "output_type": "execute_result"
    }
   ],
   "source": [
    "# labels\n",
    "np.unique(y_train)"
   ]
  },
  {
   "cell_type": "markdown",
   "id": "e2108941",
   "metadata": {},
   "source": [
    "    0 -> T-shirt/top\n",
    "    1 -> Trouser\n",
    "    2 -> Pullover\n",
    "    3 -> Dress\n",
    "    4 -> Coat\n",
    "    5 -> Sandal\n",
    "    6 -> Shirt\n",
    "    7 -> Sneaker\n",
    "    8 -> Bag\n",
    "    9 -> Ankle boot"
   ]
  },
  {
   "cell_type": "code",
   "execution_count": 17,
   "id": "2941b5b5",
   "metadata": {},
   "outputs": [
    {
     "name": "stdout",
     "output_type": "stream",
     "text": [
      "label 0\n",
      "We have  784 pixels\n",
      "Pixels:\n",
      "[[  0   0   0   0   0   0   0  11 142 200 106   0   0   0   0   0   0   0  85 185 112   0   0   0   0   0   0   0]\n",
      " [  0   0   0   0   0   0 152 214 217 194 236 216 187 149 135 153 211 217 231 205 217 188  34   0   0   0   0   0]\n",
      " [  0   0   0   0   0  66 185 166 180 181 190 211 221 197 146 198 206 191 168 190 172 188 175   0   0   0   0   0]\n",
      " [  0   0   0   0   0 135 153 160 175 180 170 186 187 190 188 190 187 174 195 185 174 161 175  59   0   0   0   0]\n",
      " [  0   0   0   0   0 161 147 160 170 178 177 180 168 173 174 171 185 184 185 172 171 164 174 120   0   0   0   0]\n",
      " [  0   0   0   0   2 175 146 145 168 178 181 185 180 184 178 179 187 191 193 190 181 171 172 158   0   0   0   0]\n",
      " [  0   0   0   0  35 177 155 140 151 172 191 187 186 187 186 187 182 191 194 188 180 161 161 185   0   0   0   0]\n",
      " [  0   0   0   0  59 170 153 141 120 154 160 161 172 168 166 161 165 172 170 164 139 149 162 166  21   0   0   0]\n",
      " [  0   0   0   0  79 145 160 214 123 128 153 160 164 158 157 154 155 170 165 141 195 193 152 166  61   0   0   0]\n",
      " [  0   0   0   0 100 157 225 245 175 113 174 158 158 160 155 160 164 178 188 135 185 240 201 172 108   0   0   0]\n",
      " [  0   0   0   0   0  31 174  28 126 153 166 152 158 158 160 161 157 168 191 188  18 132 159   7   0   0   0   0]\n",
      " [  0   0   0   0   0   0   0   0  82 187 159 153 157 158 162 164 164 154 187 190   0   0   0   0   0   0   0   0]\n",
      " [  0   0   0   0   1   3   5   0  37 175 158 155 162 158 160 162 165 153 177 205   0   0   3   3   0   0   0   0]\n",
      " [  0   0   0   0   0   0   1   0  25 175 152 160 158 161 160 164 164 161 166 200   0   0   1   0   0   0   0   0]\n",
      " [  0   0   0   0   0   0   4   0  30 171 147 164 155 165 161 165 162 170 164 162   0   0   2   0   0   0   0   0]\n",
      " [  0   0   0   0   0   0   4   0  57 166 155 164 166 161 161 164 167 165 165 162  28   0   3   0   0   0   0   0]\n",
      " [  0   0   0   0   0   0   3   0 114 161 161 166 159 168 161 161 172 162 165 171  50   0   5   0   0   0   0   0]\n",
      " [  0   0   0   0   0   0   1   0 149 157 167 172 159 172 164 161 172 170 160 171  89   0   4   0   0   0   0   0]\n",
      " [  0   0   0   0   0   2   0   4 171 164 166 173 159 179 166 160 174 167 162 166 128   0   2   0   0   0   0   0]\n",
      " [  0   0   0   0   0   3   0  18 152 173 160 179 154 181 166 164 175 170 166 170 164   0   0   1   0   0   0   0]\n",
      " [  0   0   0   0   0   4   0  47 165 172 167 185 153 187 173 165 174 179 166 166 158   5   0   3   0   0   0   0]\n",
      " [  0   0   0   0   0   4   0  87 180 162 179 179 157 191 182 165 168 190 173 165 166  20   0   4   0   0   0   0]\n",
      " [  0   0   0   0   0   4   0 105 187 157 194 175 161 190 184 170 158 205 177 168 171  44   0   4   0   0   0   0]\n",
      " [  0   0   0   0   0   5   0 138 181 158 205 160 167 190 198 167 152 218 186 170 172  57   0   5   0   0   0   0]\n",
      " [  0   0   0   0   0   5   0 135 174 167 199 155 166 201 219 165 158 218 188 167 175  56   0   7   0   0   0   0]\n",
      " [  0   0   0   0   0   5   0 129 171 172 177 153 159 206 216 148 157 206 190 165 175  48   0   5   0   0   0   0]\n",
      " [  0   0   0   0   0   5   0 167 187 182 198 194 200 226 240 184 206 255 197 178 179  42   0   5   0   0   0   0]\n",
      " [  0   0   0   0   0   3   0 115 135 113 106  85  82 108 133  83  90 121 120 110 158  18   0   3   0   0   0   0]]\n"
     ]
    },
    {
     "data": {
      "text/plain": [
       "<matplotlib.image.AxesImage at 0x1b2e416dfd0>"
      ]
     },
     "execution_count": 17,
     "metadata": {},
     "output_type": "execute_result"
    },
    {
     "data": {
      "image/png": "[encoded data removed]",
      "text/plain": [
       "<Figure size 432x288 with 1 Axes>"
      ]
     },
     "metadata": {
      "needs_background": "light"
     },
     "output_type": "display_data"
    }
   ],
   "source": [
    "# Visualize the image \n",
    "np.set_printoptions(linewidth =320)\n",
    "index = 10\n",
    "print('label',y_train[index])\n",
    "print('We have ' , x_train[index].size, 'pixels')\n",
    "print('Pixels:')\n",
    "print( x_train[index])\n",
    "plt.imshow(x_train[index] , cmap = 'Greys')"
   ]
  },
  {
   "cell_type": "code",
   "execution_count": 24,
   "id": "e15f7a7b",
   "metadata": {},
   "outputs": [],
   "source": [
    "# Normalize data \n",
    "x_train = x_train / x_train.max()\n",
    "x_test = x_test /x_train.max()"
   ]
  },
  {
   "cell_type": "code",
   "execution_count": 42,
   "id": "7fe5f8db",
   "metadata": {},
   "outputs": [],
   "source": [
    "#  create model\n",
    "model = tf.keras.models.Sequential([\n",
    "    tf.keras.layers.Flatten(),\n",
    "    tf.keras.layers.Dense(units=128  , activation=tf.nn.relu),\n",
    "    tf.keras.layers.Dense(units = 10 , activation=tf.nn.softmax)\n",
    "])\n"
   ]
  },
  {
   "cell_type": "code",
   "execution_count": 43,
   "id": "8015c87c",
   "metadata": {},
   "outputs": [],
   "source": [
    "# compile model\n",
    "model.compile(tf.optimizers.Adam(),loss ='sparse_categorical_crossentropy' , metrics=['accuracy'])"
   ]
  },
  {
   "cell_type": "code",
   "execution_count": 44,
   "id": "e2ade457",
   "metadata": {},
   "outputs": [
    {
     "name": "stdout",
     "output_type": "stream",
     "text": [
      "Epoch 1/10\n",
      "1875/1875 [==============================] - 24s 12ms/step - loss: 0.5018 - accuracy: 0.8244\n",
      "Epoch 2/10\n",
      "1875/1875 [==============================] - 25s 13ms/step - loss: 0.3798 - accuracy: 0.8623\n",
      "Epoch 3/10\n",
      "1875/1875 [==============================] - 29s 16ms/step - loss: 0.3370 - accuracy: 0.8767: 15s - loss: 0.3479 - accur - ETA: 15s - loss: 0.3492 - accuracy - ETA: 14s - loss: 0 - ETA: 6s - - ETA:  - - ETA:  - E - ETA: \n",
      "Epoch 4/10\n",
      "1875/1875 [==============================] - 30s 16ms/step - loss: 0.3127 - accuracy: 0.8852: 39s - loss: 0.3162 - accuracy: 0.8 - ETA: 40s - loss: 0.3138 - a - ETA: 38s - loss: 0.3162 - accuracy: 0.8 - ETA: 37s - loss: 0.3178 - accuracy - ETA: 35s - loss: 0.3167 - accuracy: 0.885 - ETA: 35s - ETA: 29s - loss: 0.3180 - accuracy: - ETA: 28s - loss: 0.31 - ETA: 21s - loss: 0.31 - ETA\n",
      "Epoch 5/10\n",
      "1875/1875 [==============================] - 26s 14ms/step - loss: 0.2960 - accuracy: 0.8917\n",
      "Epoch 6/10\n",
      "1875/1875 [==============================] - 25s 13ms/step - loss: 0.2791 - accuracy: 0.8955\n",
      "Epoch 7/10\n",
      "1875/1875 [==============================] - 25s 13ms/step - loss: 0.2689 - accuracy: 0.89973s\n",
      "Epoch 8/10\n",
      "1875/1875 [==============================] - 22s 12ms/step - loss: 0.2587 - accuracy: 0.9038\n",
      "Epoch 9/10\n",
      "1875/1875 [==============================] - 28s 15ms/step - loss: 0.2480 - accuracy: 0.90690s\n",
      "Epoch 10/10\n",
      "1875/1875 [==============================] - 31s 17ms/step - loss: 0.2371 - accuracy: 0.9106\n"
     ]
    }
   ],
   "source": [
    "# fit model\n",
    "history = model.fit(x_train , y_train , epochs=10)"
   ]
  },
  {
   "cell_type": "code",
   "execution_count": 57,
   "id": "d8d9422d",
   "metadata": {},
   "outputs": [
    {
     "data": {
      "text/plain": [
       "dict_keys(['loss', 'accuracy'])"
      ]
     },
     "execution_count": 57,
     "metadata": {},
     "output_type": "execute_result"
    }
   ],
   "source": [
    "history.history.keys()"
   ]
  },
  {
   "cell_type": "code",
   "execution_count": 54,
   "id": "b6aa6489",
   "metadata": {},
   "outputs": [
    {
     "data": {
      "image/png": "[encoded data removed]",
      "text/plain": [
       "<Figure size 1008x432 with 2 Axes>"
      ]
     },
     "metadata": {
      "needs_background": "light"
     },
     "output_type": "display_data"
    }
   ],
   "source": [
    "# show results\n",
    "plt.figure(figsize=(14,6))\n",
    "plt.subplot(1,2,1)\n",
    "plt.plot(history.history['loss'])\n",
    "plt.title('loss curve')\n",
    "plt.xlabel('iteration number')\n",
    "plt.ylabel('score')\n",
    "plt.subplot(1,2,2)\n",
    "plt.plot(history.history['accuracy'])\n",
    "plt.title('Accuracy curve')\n",
    "plt.xlabel('iteration number')\n",
    "plt.ylabel('score')\n",
    "plt.show()\n",
    "\n"
   ]
  },
  {
   "cell_type": "code",
   "execution_count": 56,
   "id": "a5b9dbbd",
   "metadata": {},
   "outputs": [
    {
     "data": {
      "text/plain": [
       "dict_keys(['loss', 'accuracy'])"
      ]
     },
     "execution_count": 56,
     "metadata": {},
     "output_type": "execute_result"
    }
   ],
   "source": []
  },
  {
   "cell_type": "code",
   "execution_count": 36,
   "id": "2f1df21f",
   "metadata": {},
   "outputs": [
    {
     "name": "stdout",
     "output_type": "stream",
     "text": [
      "313/313 [==============================] - 4s 9ms/step - loss: 69.4961 - accuracy: 0.8499\n"
     ]
    },
    {
     "data": {
      "text/plain": [
       "[69.49614715576172, 0.8499000072479248]"
      ]
     },
     "execution_count": 36,
     "metadata": {},
     "output_type": "execute_result"
    }
   ],
   "source": [
    "# evaluate the model on  the testset \n",
    "model.evaluate (x_test , y_test)"
   ]
  },
  {
   "cell_type": "markdown",
   "id": "c4e1aa50",
   "metadata": {},
   "source": [
    "                                                    THE END "
   ]
  },
  {
   "cell_type": "code",
   "execution_count": null,
   "id": "d2d36b6b",
   "metadata": {},
   "outputs": [],
   "source": []
  }
 ],
 "metadata": {
  "kernelspec": {
   "display_name": "Python 3 (ipykernel)",
   "language": "python",
   "name": "python3"
  },
  "language_info": {
   "codemirror_mode": {
    "name": "ipython",
    "version": 3
   },
   "file_extension": ".py",
   "mimetype": "text/x-python",
   "name": "python",
   "nbconvert_exporter": "python",
   "pygments_lexer": "ipython3",
   "version": "3.8.12"
  }
 },
 "nbformat": 4,
 "nbformat_minor": 5
}
