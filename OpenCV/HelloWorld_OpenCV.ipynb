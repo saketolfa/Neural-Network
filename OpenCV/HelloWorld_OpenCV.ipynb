{
 "cells": [
  {
   "cell_type": "markdown",
   "id": "0a9d05b9",
   "metadata": {},
   "source": [
    "# OpenCV hello world"
   ]
  },
  {
   "cell_type": "code",
   "execution_count": 10,
   "id": "072f4d77",
   "metadata": {},
   "outputs": [
    {
     "name": "stdout",
     "output_type": "stream",
     "text": [
      "Collecting opencv-pythonNote: you may need to restart the kernel to use updated packages.\n",
      "  Downloading opencv_python-4.6.0.66-cp36-abi3-win_amd64.whl (35.6 MB)\n",
      "Requirement already satisfied: numpy>=1.14.5 in c:\\users\\dell\\anaconda3\\lib\\site-packages (from opencv-python) (1.21.5)\n",
      "Installing collected packages: opencv-python\n",
      "Successfully installed opencv-python-4.6.0.66\n",
      "\n"
     ]
    }
   ],
   "source": [
    "# Install opencv on juputer notebook\n",
    "pip install opencv-python"
   ]
  },
  {
   "cell_type": "code",
   "execution_count": 21,
   "id": "ea6c5a42",
   "metadata": {},
   "outputs": [],
   "source": [
    "# import library\n",
    "import cv2"
   ]
  },
  {
   "cell_type": "code",
   "execution_count": 37,
   "id": "36ba5799",
   "metadata": {},
   "outputs": [
    {
     "name": "stdout",
     "output_type": "stream",
     "text": [
      "[[[ 33  63  50]\n",
      "  [ 30  60  47]\n",
      "  [ 29  62  48]\n",
      "  ...\n",
      "  [ 19  45  51]\n",
      "  [ 30  49  54]\n",
      "  [ 35  52  55]]\n",
      "\n",
      " [[ 35  65  52]\n",
      "  [ 31  61  48]\n",
      "  [ 30  63  49]\n",
      "  ...\n",
      "  [ 24  48  54]\n",
      "  [ 32  51  56]\n",
      "  [ 33  50  53]]\n",
      "\n",
      " [[ 35  68  54]\n",
      "  [ 31  64  50]\n",
      "  [ 31  64  50]\n",
      "  ...\n",
      "  [ 28  52  58]\n",
      "  [ 34  53  58]\n",
      "  [ 35  49  55]]\n",
      "\n",
      " ...\n",
      "\n",
      " [[132 130 130]\n",
      "  [127 125 125]\n",
      "  [173 170 172]\n",
      "  ...\n",
      "  [ 98 104 109]\n",
      "  [110 116 121]\n",
      "  [108 117 120]]\n",
      "\n",
      " [[128 123 124]\n",
      "  [126 124 124]\n",
      "  [104 102 102]\n",
      "  ...\n",
      "  [104 112 119]\n",
      "  [105 113 120]\n",
      "  [ 92 103 107]]\n",
      "\n",
      " [[ 98  93  94]\n",
      "  [130 125 126]\n",
      "  [127 125 125]\n",
      "  ...\n",
      "  [ 97 107 114]\n",
      "  [102 112 119]\n",
      "  [101 111 118]]]\n"
     ]
    }
   ],
   "source": [
    "# Download  an image from pixabay.com\n",
    "# path\n",
    "path = \"dog.jpg\"\n",
    " # imread retourne une matrice cantenant les pixels de l'image en question\n",
    "img = cv2.imread(path)\n",
    "print(img)"
   ]
  },
  {
   "cell_type": "code",
   "execution_count": 17,
   "id": "1e0eeea3",
   "metadata": {},
   "outputs": [
    {
     "data": {
      "text/plain": [
       "(480, 640, 3)"
      ]
     },
     "execution_count": 17,
     "metadata": {},
     "output_type": "execute_result"
    }
   ],
   "source": [
    "img.shape  # 3 for BGR color"
   ]
  },
  {
   "cell_type": "code",
   "execution_count": 57,
   "id": "4fae1684",
   "metadata": {},
   "outputs": [
    {
     "name": "stdout",
     "output_type": "stream",
     "text": [
      "if you want to save this image press the letter 's'\n",
      "The windows were destroyed \n",
      "\n"
     ]
    }
   ],
   "source": [
    "print(\"if you want to save this image press the letter 's'\")\n",
    "\n",
    "# visualizer l'image dans une fenetre appelé 'My first window'\n",
    "cv2.imshow('My first window' , img) \n",
    "# afficher la fenetre  pendant 10s\n",
    "#cv2.waitKey(10000) \n",
    "# attendre   jusqu'à ce que l'utilisateur appuie sur une touche de clavier ou  ferme manuellement la fenetre\n",
    "key = cv2.waitKey(0) \n",
    "\n",
    "# save the image\n",
    "if key == ord('s'):\n",
    "    print(f\"You pressed the letter '{chr(key)} , The image was saved \\n\")\n",
    "    # change the jpg format to png format\n",
    "    cv2.imwrite('dog.png' , img)\n",
    "    \n",
    "\n",
    "# fermer toutes les fenêtres ouvertes     \n",
    "cv2.destroyAllWindows() \n",
    "print(\"The windows were destroyed \\n\")"
   ]
  },
  {
   "cell_type": "code",
   "execution_count": 33,
   "id": "559fbe3d",
   "metadata": {},
   "outputs": [],
   "source": [
    "# Converting BGR color to gray color\n",
    "gray_img = cv2.cvtColor(img, cv2.COLOR_BGR2GRAY)"
   ]
  },
  {
   "cell_type": "code",
   "execution_count": 34,
   "id": "00c5f553",
   "metadata": {},
   "outputs": [],
   "source": [
    "# Show the gray color image \n",
    "cv2.imshow('window' , gray_img)\n",
    "cv2.waitKey(0)\n",
    "cv2.destroyAllWindows()"
   ]
  }
 ],
 "metadata": {
  "kernelspec": {
   "display_name": "Python 3 (ipykernel)",
   "language": "python",
   "name": "python3"
  },
  "language_info": {
   "codemirror_mode": {
    "name": "ipython",
    "version": 3
   },
   "file_extension": ".py",
   "mimetype": "text/x-python",
   "name": "python",
   "nbconvert_exporter": "python",
   "pygments_lexer": "ipython3",
   "version": "3.8.12"
  }
 },
 "nbformat": 4,
 "nbformat_minor": 5
}
